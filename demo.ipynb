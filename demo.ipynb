{
 "cells": [
  {
   "cell_type": "markdown",
   "metadata": {},
   "source": [
    "Here we shall learn the stochastic dynamics of the one-dimensional Fredrickson-Andersen (FA) model, consisting of binary spins on a lattice, through observation of a single trajectory. The trajectory of length $T$, obtained through kinetic (or continuous-time) Monte Carlo, consists of configurations and their associated residence times:\n",
    "\\begin{equation*}\n",
    "\\omega = \\mathcal{C}_0  \\xrightarrow[]{\\Delta t_{\\mathcal{C}_0}} \\mathcal{C}_1 \\xrightarrow[]{\\Delta t_{\\mathcal{C}_1}} \\cdots\\mathcal{C}_{K-1} \\xrightarrow[]{\\Delta t_{\\mathcal{C}_{K-1}}}\\mathcal{C}_K \\xrightarrow[]{\\Delta t_{K}} \\mathcal{C}_K\n",
    "\\end{equation*}\n",
    "where $\\Delta t_{K} = T-\\sum_{k=0}^{K-1} \\Delta t_{\\mathcal{C}_k}$. The trajectory log-likelihood is given by \n",
    "\\begin{equation*}\n",
    "U_\\omega =\\sum_{k=0}^{K-1} \\left(\\ln W_{\\mathcal{C}_k \\to \\mathcal{C}_{k+1}}-\\Delta t_{\\mathcal{C}_k} R_{\\mathcal{C}_k}\\right)  - \\Delta t_K R_{\\mathcal{C}_K}\n",
    "\\end{equation*}\n",
    "where $ W_{\\mathcal{C}_k \\to \\mathcal{C}_{k+1}}$ is the transition rate between configurations $\\mathcal{C}_k$ and $\\mathcal{C}_{k+1}$, and $R_{\\mathcal{C}_k} \\equiv \\sum_{\\mathcal{C}'} W_{\\mathcal{C}_k \\to \\mathcal{C}'}$, the sum running over all transitions allowed from $\\mathcal{C}_k$. \n",
    "\n",
    "For the FA model, the transition rate for flipping a spin depends only on the state of its nearest neighbours.  The table below contains the rate for all possible processes, where $c$ is a constant equal to the average number of up-spins. We employ periodic boundary conditions in our simulations.\n",
    "\n",
    "| Process | Rate | \n",
    "| --- | --- | \n",
    "| `000` $\\rightarrow$ `010` | 0 |\n",
    "| `010` $\\rightarrow$ `000` | 0 |\n",
    "| `001` $\\rightarrow$ `011` | $c$ |\n",
    "| `100` $\\rightarrow$ `110`| $c$ |\n",
    "| `101` $\\rightarrow$ `111`| $2c$ |\n",
    "| `110` $\\rightarrow$ `100` | $1-c$ |\n",
    "| `011` $\\rightarrow$ `001`| $1-c$ |\n",
    "| `111` $\\rightarrow$ `101`| $2(1-c)$ |\n"
   ]
  },
  {
   "cell_type": "code",
   "execution_count": 1,
   "metadata": {},
   "outputs": [],
   "source": [
    "import numpy as np\n",
    "\n",
    "def transition_rates_and_R(config,c):\n",
    "    transition_rates = (config*(1-c) + (1-config)*c) * ((np.roll(config, 1) + np.roll(config, -1)))\n",
    "    R = np.sum(transition_rates)\n",
    "    return transition_rates, R\n",
    "\n",
    "\n",
    "\n",
    "def sample_FA_trajectory(T,L,c):\n",
    "    t = 0\n",
    "    log_likelihood = 0\n",
    "\n",
    "    #store the configurations and residence times\n",
    "    configs = np.zeros((int(T*L*c*1.5), L))\n",
    "    times = np.zeros((configs.shape[0]))\n",
    "\n",
    "    i = 0\n",
    "    config = np.random.choice([0,1], L, p= [1-c,c])\n",
    "    configs[i] = config\n",
    "\n",
    "    transition_rates, R = transition_rates_and_R(config,c)\n",
    "\n",
    "    dt = np.random.exponential(scale = 1/R, size = 1)[0]\n",
    "\n",
    "    while t + dt < T:\n",
    "\n",
    "        times[i] = dt\n",
    "        flip_id = np.random.choice(L, 1, p = transition_rates/R)[0]\n",
    "        log_likelihood += np.log(transition_rates[flip_id]) - times[i]*R\n",
    "\n",
    "        t += dt\n",
    "        i+=1\n",
    "\n",
    "        config = config.copy()\n",
    "        config[flip_id] = 1 - config[flip_id]\n",
    "        configs[i] = config\n",
    "        transition_rates, R = transition_rates_and_R(config,c)\n",
    "        dt = np.random.exponential(scale = 1/R, size = 1)[0]\n",
    "\n",
    "    times[i] = T-t\n",
    "    log_likelihood -= R*times[i]\n",
    "\n",
    "    return configs[:i+1],times[:i+1], log_likelihood\n"
   ]
  },
  {
   "cell_type": "markdown",
   "metadata": {},
   "source": [
    "In order to learn these dynamics without making assumptions such as locality of the interactions or translational invariance, we must use an efficient way of encoding all the possible transition rates (the number of which grows exponentially with system size). Here, we do so using a neural network. The neural network used to encode the dynamics is a transformer. It consists of multiple layers:\n",
    "- We first embed the particles' states and positions into a higher-dimensional space. This is done by using `torch.nn.embedding` layers. The embedding of the state and position are added together.\n",
    "- These embeddings are passed to a `torch.nn.TransformerEncoderLayer`. This layer combines multi-head attention with fully-connected networks and layer normalization acting on the output of the attention layers for each particle. This step can be repeated multiple times; the features of the previous layer are then used as input for the next one.\n",
    "- Finally, we use a fully-connected neural network acting on the output features of the transformer to calculate the log-rate $\\ln W$ for each possible transition; for the specific case of the FA model, this consists of flipping each spin. The output of the model is hence a new sequence which contains the log-rate for flipping each spin of the original sequence.\n",
    "\n",
    "Through the attention layers, the transformer needs to decide which spins affect the transition rate for flipping a certain spin; we do not provide any prior information about locality of interaction, translation invariance, or the boundary conditions. If such prior physical information would be available, it can easily be incorporated into the model (e.g. by restricting the range of the attention).\n"
   ]
  },
  {
   "cell_type": "code",
   "execution_count": 2,
   "metadata": {},
   "outputs": [
    {
     "name": "stdout",
     "output_type": "stream",
     "text": [
      "cpu\n"
     ]
    }
   ],
   "source": [
    "import torch\n",
    "from tqdm import tqdm\n",
    "\n",
    "import torch.backends.cudnn as cudnn\n",
    "cudnn.benchmark = True\n",
    "\n",
    "device = torch.device(\"cuda:0\" if torch.cuda.is_available() else \"cpu\")\n",
    "print(device)\n",
    "\n",
    "dtype = torch.float32\n",
    "\n",
    "class TransformerModel(torch.nn.Module):\n",
    "    def __init__(self, input_dim, seq_length, embedding_dim, num_heads, num_layers, dim_feedforward):\n",
    "        super(TransformerModel, self).__init__()\n",
    "\n",
    "\n",
    "        self.seq_length = seq_length\n",
    "\n",
    "        #learnable embeddings for the state and position of each spin\n",
    "        self.spin_emb = torch.nn.Embedding(input_dim, embedding_dim)\n",
    "        self.pos_emb = torch.nn.Embedding(seq_length, embedding_dim)\n",
    "\n",
    "        #transformer layers model the interactions between the spins for the rate calculations\n",
    "        encoder_layers = torch.nn.TransformerEncoderLayer(embedding_dim, num_heads, dim_feedforward, dropout=0, batch_first = True)\n",
    "        self.transformer = torch.nn.TransformerEncoder(encoder_layers, num_layers)\n",
    "\n",
    "        #the decoder calculates ln W for a certain transition by processing the output features of the transformer. Here, we can do this with just a single-layer fully-connected net.\n",
    "        #for the FA model, we only need one output node (rate for flipping a spin), for other models with more possible particle updates this should be increased\n",
    "        model = []\n",
    "        model += [torch.nn.Linear(embedding_dim, 1)]\n",
    "        self.decoder = torch.nn.Sequential(*model)\n",
    "\n",
    "    def forward(self, x):\n",
    "\n",
    "        #embed the particles' state and position\n",
    "        spin_emb = self.spin_emb(x)\n",
    "        b,t,k = spin_emb.size()\n",
    "        positions = torch.arange(self.seq_length, device=device)\n",
    "        pos_emb = self.pos_emb(positions)[None, :,:].expand(b,t,k)\n",
    "\n",
    "        input = spin_emb + pos_emb\n",
    "\n",
    "        #calculate the transformer features\n",
    "        output = self.transformer(input)\n",
    "\n",
    "        #calculate the transition rates\n",
    "        output = self.decoder(output)\n",
    "        return output\n",
    "\n"
   ]
  },
  {
   "cell_type": "markdown",
   "metadata": {},
   "source": [
    "When provided with a trajectory consisting of configurations and residence times, we can optimize the transformer to learn the dynamics which generated this trajectory. We do so by minimizing the negative log-likelihood of the trajectory as calculated by the transformer through gradient descent. As transformers use a large amount of memory, we do this calculation in smaller batches. We then have two options for updating the transformer's weights:\n",
    "- We update the weights after processing each batch in order to maximize the log-likelihood of the shorter trajectory contained in this batch.\n",
    "- We store the gradients corresponding to each batch, and only update the weights once the full trajectory is processed.\n",
    "\n",
    "The second option naturally leads to more accurate gradients to maximize the log-likelihood of the provided trajectory, but requires extensive computation for each weight update. We typically start by using the first option, where we aggregate the gradients of only a few batches before each weight update, to quickly get near the maximum trajectory likelihood. The second option is then used for further fine-tuning of the weights."
   ]
  },
  {
   "cell_type": "code",
   "execution_count": 3,
   "metadata": {},
   "outputs": [],
   "source": [
    "\n",
    "class DynamicsLearner(torch.nn.Module):\n",
    "    def __init__(self,configs,times, exact, T, input_dim, embedding_dim, num_heads, num_layers, dim_feedforward):\n",
    "        super(DynamicsLearner, self).__init__()\n",
    "\n",
    "        self.L = configs[0].shape[0]\n",
    "\n",
    "        self.transformer_logrates = TransformerModel(input_dim, self.L, embedding_dim, num_heads, num_layers, dim_feedforward)\n",
    "        self.transformer_logrates.to(dtype).to(device)\n",
    "\n",
    "        self.times = torch.from_numpy(times).to(dtype)\n",
    "        self.configs = torch.from_numpy(configs).to(torch.int64)\n",
    "        self.exact = exact\n",
    "        self.T = T\n",
    "\n",
    "    #calculate the possible transition log-rates and escape rate for a batch of configurations\n",
    "    def log_transition_rates_and_R_batched(self, configs):\n",
    "        configs = configs.to(device)\n",
    "        log_rates = self.transformer_logrates(configs)[...,0]\n",
    "        R = torch.sum(torch.exp(log_rates), dim =1)\n",
    "        return log_rates, R\n",
    "\n",
    "\n",
    "    #calculate log-likelihood of part of the trajectory; \\sum_k ln W_{C_k->C+{k+1}} - R \\Delta t_{C_k}\n",
    "    def log_likelihood_trajectory_batched(self, start, end, calc_last = False):\n",
    "        log_transition_rates, R = self.log_transition_rates_and_R_batched(self.configs[start:end])\n",
    "        if not calc_last:\n",
    "            #check which spin has flipped for each transition\n",
    "            ids_flipped = torch.where(self.configs[start:end] - self.configs[start+1:end + 1])\n",
    "            \n",
    "            log_likelihood = log_transition_rates[ids_flipped].sum() - (self.times[start:end].to(device)*R).sum()\n",
    "        else:\n",
    "            ids_flipped = torch.where(self.configs[start:end-1] - self.configs[start+1:end])\n",
    "            log_likelihood = log_transition_rates[:-1][ids_flipped].sum() - (self.times[start:end-1].to(device)*R[:-1]).sum()\n",
    "\n",
    "            #R_K \\Delta t_{C_K} for last configurations\n",
    "            log_likelihood -= R[-1]*self.times[-1].to(device)\n",
    "        return log_likelihood\n",
    "\n",
    "\n",
    "\n",
    "    def train_batched(self, n_iter, lr, batch_size,update_batch, batch_per_update, grad_clip):\n",
    "        #use the Adam optimizer to train the net\n",
    "        optimizer = torch.optim.Adam(self.parameters(), lr)\n",
    "\n",
    "        losses = np.zeros(n_iter)\n",
    "        \n",
    "        steps = self.times.shape[0] // batch_size + 1  if batch_size < self.times.shape[0] else 1\n",
    "\n",
    "        for i in range(n_iter):\n",
    "\n",
    "            running_loss = 0\n",
    "\n",
    "            for j in tqdm(range(steps)):\n",
    "\n",
    "                #calculate the loss on each batch (i.e. part of the trajectory)\n",
    "                #multiply loss by -1 as we want to minimize the negative log-likelihood\n",
    "                if j < steps - 1:\n",
    "                    loss = -1* (self.log_likelihood_trajectory_batched(j*batch_size, (j+1)*batch_size))\n",
    "                else:\n",
    "                    loss = -1 *(self.log_likelihood_trajectory_batched(j*batch_size, self.times.shape[0], calc_last = True))\n",
    "\n",
    "\n",
    "                loss.backward()\n",
    "\n",
    "                if update_batch and j % batch_per_update == 0:\n",
    "                    #update weights on smaller parts of the trajectory, and reset gradients\n",
    "\n",
    "                    if grad_clip != 0:\n",
    "                        torch.nn.utils.clip_grad_norm_(self.parameters(), grad_clip)\n",
    "                    optimizer.step()\n",
    "                    optimizer.zero_grad()\n",
    "\n",
    "\n",
    "                running_loss += loss.detach()\n",
    "\n",
    "            \n",
    "            if not update_batch:\n",
    "                #update weights based on log-likelihood of the full trajectory\n",
    "                if grad_clip != 0:\n",
    "                    torch.nn.utils.clip_grad_norm_(self.parameters(), grad_clip)\n",
    "                optimizer.step()\n",
    "                optimizer.zero_grad()\n",
    "\n",
    "\n",
    "            tot_loss = running_loss.cpu().numpy()\n",
    "\n",
    "            losses[i] = tot_loss\n",
    "\n",
    "            print(\"Step: \"+ str(i+1)+\"\\t Exact: \" + str(self.exact/self.T) + \"\\t\"+\"Transformer: \" + str(-1*tot_loss/self.T))\n",
    "        return losses"
   ]
  },
  {
   "cell_type": "code",
   "execution_count": 4,
   "metadata": {},
   "outputs": [
    {
     "name": "stderr",
     "output_type": "stream",
     "text": [
      "100%|██████████| 26/26 [00:05<00:00,  4.94it/s]\n"
     ]
    },
    {
     "name": "stdout",
     "output_type": "stream",
     "text": [
      "Step: 1\t Exact: -3.9643263084372964\tTransformer: -6.4935328125\n"
     ]
    },
    {
     "name": "stderr",
     "output_type": "stream",
     "text": [
      "100%|██████████| 26/26 [00:05<00:00,  4.85it/s]\n"
     ]
    },
    {
     "name": "stdout",
     "output_type": "stream",
     "text": [
      "Step: 2\t Exact: -3.9643263084372964\tTransformer: -5.248736328125\n"
     ]
    },
    {
     "name": "stderr",
     "output_type": "stream",
     "text": [
      "100%|██████████| 26/26 [00:04<00:00,  5.66it/s]\n"
     ]
    },
    {
     "name": "stdout",
     "output_type": "stream",
     "text": [
      "Step: 3\t Exact: -3.9643263084372964\tTransformer: -4.593200390625\n"
     ]
    },
    {
     "name": "stderr",
     "output_type": "stream",
     "text": [
      "100%|██████████| 26/26 [00:04<00:00,  5.26it/s]\n"
     ]
    },
    {
     "name": "stdout",
     "output_type": "stream",
     "text": [
      "Step: 4\t Exact: -3.9643263084372964\tTransformer: -4.117807421875\n"
     ]
    },
    {
     "name": "stderr",
     "output_type": "stream",
     "text": [
      "100%|██████████| 26/26 [00:05<00:00,  5.13it/s]\n"
     ]
    },
    {
     "name": "stdout",
     "output_type": "stream",
     "text": [
      "Step: 5\t Exact: -3.9643263084372964\tTransformer: -4.029580859375\n"
     ]
    },
    {
     "name": "stderr",
     "output_type": "stream",
     "text": [
      "100%|██████████| 26/26 [00:05<00:00,  4.81it/s]\n"
     ]
    },
    {
     "name": "stdout",
     "output_type": "stream",
     "text": [
      "Step: 6\t Exact: -3.9643263084372964\tTransformer: -4.0115578125\n"
     ]
    },
    {
     "name": "stderr",
     "output_type": "stream",
     "text": [
      "100%|██████████| 26/26 [00:04<00:00,  5.30it/s]\n"
     ]
    },
    {
     "name": "stdout",
     "output_type": "stream",
     "text": [
      "Step: 7\t Exact: -3.9643263084372964\tTransformer: -4.002492578125\n"
     ]
    },
    {
     "name": "stderr",
     "output_type": "stream",
     "text": [
      "100%|██████████| 26/26 [00:04<00:00,  5.47it/s]\n"
     ]
    },
    {
     "name": "stdout",
     "output_type": "stream",
     "text": [
      "Step: 8\t Exact: -3.9643263084372964\tTransformer: -3.994111328125\n"
     ]
    },
    {
     "name": "stderr",
     "output_type": "stream",
     "text": [
      "100%|██████████| 26/26 [00:04<00:00,  5.56it/s]\n"
     ]
    },
    {
     "name": "stdout",
     "output_type": "stream",
     "text": [
      "Step: 9\t Exact: -3.9643263084372964\tTransformer: -3.98926171875\n"
     ]
    },
    {
     "name": "stderr",
     "output_type": "stream",
     "text": [
      "100%|██████████| 26/26 [00:04<00:00,  5.94it/s]\n"
     ]
    },
    {
     "name": "stdout",
     "output_type": "stream",
     "text": [
      "Step: 10\t Exact: -3.9643263084372964\tTransformer: -3.986030859375\n"
     ]
    },
    {
     "name": "stderr",
     "output_type": "stream",
     "text": [
      "100%|██████████| 26/26 [00:04<00:00,  6.00it/s]\n"
     ]
    },
    {
     "name": "stdout",
     "output_type": "stream",
     "text": [
      "Step: 1\t Exact: -3.9643263084372964\tTransformer: -3.97937265625\n"
     ]
    },
    {
     "name": "stderr",
     "output_type": "stream",
     "text": [
      "100%|██████████| 26/26 [00:04<00:00,  5.34it/s]\n"
     ]
    },
    {
     "name": "stdout",
     "output_type": "stream",
     "text": [
      "Step: 2\t Exact: -3.9643263084372964\tTransformer: -3.9729421875\n"
     ]
    },
    {
     "name": "stderr",
     "output_type": "stream",
     "text": [
      "100%|██████████| 26/26 [00:04<00:00,  5.47it/s]\n"
     ]
    },
    {
     "name": "stdout",
     "output_type": "stream",
     "text": [
      "Step: 3\t Exact: -3.9643263084372964\tTransformer: -3.97064296875\n"
     ]
    },
    {
     "name": "stderr",
     "output_type": "stream",
     "text": [
      "100%|██████████| 26/26 [00:04<00:00,  5.46it/s]\n"
     ]
    },
    {
     "name": "stdout",
     "output_type": "stream",
     "text": [
      "Step: 4\t Exact: -3.9643263084372964\tTransformer: -3.968324609375\n"
     ]
    },
    {
     "name": "stderr",
     "output_type": "stream",
     "text": [
      "100%|██████████| 26/26 [00:05<00:00,  4.54it/s]\n"
     ]
    },
    {
     "name": "stdout",
     "output_type": "stream",
     "text": [
      "Step: 5\t Exact: -3.9643263084372964\tTransformer: -3.967577734375\n"
     ]
    },
    {
     "name": "stderr",
     "output_type": "stream",
     "text": [
      "100%|██████████| 26/26 [00:04<00:00,  5.48it/s]\n"
     ]
    },
    {
     "name": "stdout",
     "output_type": "stream",
     "text": [
      "Step: 6\t Exact: -3.9643263084372964\tTransformer: -3.96716328125\n"
     ]
    },
    {
     "name": "stderr",
     "output_type": "stream",
     "text": [
      "100%|██████████| 26/26 [00:04<00:00,  5.30it/s]\n"
     ]
    },
    {
     "name": "stdout",
     "output_type": "stream",
     "text": [
      "Step: 7\t Exact: -3.9643263084372964\tTransformer: -3.966657421875\n"
     ]
    },
    {
     "name": "stderr",
     "output_type": "stream",
     "text": [
      "100%|██████████| 26/26 [00:05<00:00,  4.73it/s]\n"
     ]
    },
    {
     "name": "stdout",
     "output_type": "stream",
     "text": [
      "Step: 8\t Exact: -3.9643263084372964\tTransformer: -3.966657421875\n"
     ]
    },
    {
     "name": "stderr",
     "output_type": "stream",
     "text": [
      "100%|██████████| 26/26 [00:04<00:00,  5.35it/s]\n"
     ]
    },
    {
     "name": "stdout",
     "output_type": "stream",
     "text": [
      "Step: 9\t Exact: -3.9643263084372964\tTransformer: -3.96661015625\n"
     ]
    },
    {
     "name": "stderr",
     "output_type": "stream",
     "text": [
      "100%|██████████| 26/26 [00:05<00:00,  5.20it/s]"
     ]
    },
    {
     "name": "stdout",
     "output_type": "stream",
     "text": [
      "Step: 10\t Exact: -3.9643263084372964\tTransformer: -3.966287890625\n"
     ]
    },
    {
     "name": "stderr",
     "output_type": "stream",
     "text": [
      "\n"
     ]
    }
   ],
   "source": [
    "#generate a trajectory\n",
    "\n",
    "T = 1e4\n",
    "L = 10\n",
    "c = 0.3\n",
    "\n",
    "configs,times, exact = sample_FA_trajectory(T, L, c)\n",
    "\n",
    "\n",
    "#define the model parameters\n",
    "\n",
    "input_dim =2 #number of spin states (here = 2 for binary spins)\n",
    "embedding_dim = 64 \n",
    "num_heads = 4\n",
    "num_layers = 2\n",
    "dim_feedforward = int(4*embedding_dim)\n",
    "\n",
    "dynamics = DynamicsLearner(configs,times, exact, T, input_dim, embedding_dim, num_heads, num_layers, dim_feedforward)\n",
    "\n",
    "#first do optimization on batches of the full trajectory\n",
    "num_iter = 10\n",
    "lr = 5e-4\n",
    "batch_size = int(1e3)\n",
    "update_batch = True\n",
    "batch_per_update = 1\n",
    "grad_clip = 100 \n",
    "losses_batched = dynamics.train_batched(num_iter,lr , batch_size,update_batch, batch_per_update, grad_clip)\n",
    "\n",
    "#then fine-tune weights on full trajectory\n",
    "num_iter = 10\n",
    "lr = 1e-4\n",
    "losses_full = dynamics.train_batched(num_iter,lr , batch_size,False, 0, grad_clip)\n",
    "\n",
    "losses = np.concatenate((losses_batched, losses_full))"
   ]
  },
  {
   "cell_type": "markdown",
   "metadata": {},
   "source": [
    "Once training is finished, we can evaluate the trajectory log-likelihood for both the exact dynamics and those learned with the transformer."
   ]
  },
  {
   "cell_type": "code",
   "execution_count": 5,
   "metadata": {},
   "outputs": [
    {
     "data": {
      "image/png": "[encoded data removed]",
      "text/plain": [
       "<Figure size 432x288 with 1 Axes>"
      ]
     },
     "metadata": {
      "needs_background": "light"
     },
     "output_type": "display_data"
    }
   ],
   "source": [
    "import matplotlib.pyplot as plt\n",
    "\n",
    "plt.axhline(exact/T, ls = \"-\", color=\"k\", label = \"Exact\")\n",
    "plt.plot(np.arange(losses.shape[0])+1,-1*losses/T, label = \"Transformer\")\n",
    "plt.xlim([1,losses.shape[0]])\n",
    "plt.xlabel(\"#epochs\", fontsize = 16)\n",
    "plt.ylabel(r\"$U_\\omega^\\theta/T$\", fontsize = 16)\n",
    "plt.legend(loc=\"best\")\n",
    "plt.show()"
   ]
  }
 ],
 "metadata": {
  "interpreter": {
   "hash": "57d879c1bab31ddce3f98747a90aac1ecdf0d747d4f9b6f921c92f41b19b21c9"
  },
  "kernelspec": {
   "display_name": "Python 3.9.2 64-bit ('pytorch_env': conda)",
   "language": "python",
   "name": "python3"
  },
  "language_info": {
   "codemirror_mode": {
    "name": "ipython",
    "version": 3
   },
   "file_extension": ".py",
   "mimetype": "text/x-python",
   "name": "python",
   "nbconvert_exporter": "python",
   "pygments_lexer": "ipython3",
   "version": "3.9.2"
  },
  "orig_nbformat": 4
 },
 "nbformat": 4,
 "nbformat_minor": 2
}
